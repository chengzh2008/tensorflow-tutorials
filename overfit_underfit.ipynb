{
  "nbformat": 4,
  "nbformat_minor": 0,
  "metadata": {
    "colab": {
      "name": "overfit_underfit.ipynb",
      "provenance": [],
      "authorship_tag": "ABX9TyNVL2wAmivOrV058xaskz4N",
      "include_colab_link": true
    },
    "kernelspec": {
      "name": "python3",
      "display_name": "Python 3"
    }
  },
  "cells": [
    {
      "cell_type": "markdown",
      "metadata": {
        "id": "view-in-github",
        "colab_type": "text"
      },
      "source": [
        "<a href=\"https://colab.research.google.com/github/chengzh2008/tensorflow-tutorials/blob/main/overfit_underfit.ipynb\" target=\"_parent\"><img src=\"https://colab.research.google.com/assets/colab-badge.svg\" alt=\"Open In Colab\"/></a>"
      ]
    },
    {
      "cell_type": "code",
      "metadata": {
        "colab": {
          "base_uri": "https://localhost:8080/"
        },
        "id": "LT_-p0L8B55e",
        "outputId": "a6820775-76af-4c40-a129-a37c4c528ed1"
      },
      "source": [
        "import tensorflow as tf\n",
        "from tensorflow.keras import layers\n",
        "from tensorflow.keras import regularizers\n",
        "print(tf.__version__)"
      ],
      "execution_count": 1,
      "outputs": [
        {
          "output_type": "stream",
          "text": [
            "2.4.0\n"
          ],
          "name": "stdout"
        }
      ]
    },
    {
      "cell_type": "code",
      "metadata": {
        "colab": {
          "base_uri": "https://localhost:8080/"
        },
        "id": "j7dxFJdnCTaB",
        "outputId": "8a9783ed-3942-4949-9cd0-9c27452aebc6"
      },
      "source": [
        "!pip install -q git+http://github.com/tensorflow/docs\n",
        "\n",
        "import tensorflow_docs as tfdocs\n",
        "import tensorflow_docs.modeling\n",
        "import tensorflow_docs.plots"
      ],
      "execution_count": 2,
      "outputs": [
        {
          "output_type": "stream",
          "text": [
            "\u001b[?25l\r\u001b[K     |▎                               | 10kB 19.1MB/s eta 0:00:01\r\u001b[K     |▋                               | 20kB 25.2MB/s eta 0:00:01\r\u001b[K     |█                               | 30kB 10.7MB/s eta 0:00:01\r\u001b[K     |█▎                              | 40kB 8.8MB/s eta 0:00:01\r\u001b[K     |█▋                              | 51kB 4.5MB/s eta 0:00:01\r\u001b[K     |██                              | 61kB 5.0MB/s eta 0:00:01\r\u001b[K     |██▎                             | 71kB 5.2MB/s eta 0:00:01\r\u001b[K     |██▋                             | 81kB 5.6MB/s eta 0:00:01\r\u001b[K     |██▉                             | 92kB 5.4MB/s eta 0:00:01\r\u001b[K     |███▏                            | 102kB 4.4MB/s eta 0:00:01\r\u001b[K     |███▌                            | 112kB 4.4MB/s eta 0:00:01\r\u001b[K     |███▉                            | 122kB 4.4MB/s eta 0:00:01\r\u001b[K     |████▏                           | 133kB 4.4MB/s eta 0:00:01\r\u001b[K     |████▌                           | 143kB 4.4MB/s eta 0:00:01\r\u001b[K     |████▉                           | 153kB 4.4MB/s eta 0:00:01\r\u001b[K     |█████▏                          | 163kB 4.4MB/s eta 0:00:01\r\u001b[K     |█████▌                          | 174kB 4.4MB/s eta 0:00:01\r\u001b[K     |█████▊                          | 184kB 4.4MB/s eta 0:00:01\r\u001b[K     |██████                          | 194kB 4.4MB/s eta 0:00:01\r\u001b[K     |██████▍                         | 204kB 4.4MB/s eta 0:00:01\r\u001b[K     |██████▊                         | 215kB 4.4MB/s eta 0:00:01\r\u001b[K     |███████                         | 225kB 4.4MB/s eta 0:00:01\r\u001b[K     |███████▍                        | 235kB 4.4MB/s eta 0:00:01\r\u001b[K     |███████▊                        | 245kB 4.4MB/s eta 0:00:01\r\u001b[K     |████████                        | 256kB 4.4MB/s eta 0:00:01\r\u001b[K     |████████▍                       | 266kB 4.4MB/s eta 0:00:01\r\u001b[K     |████████▋                       | 276kB 4.4MB/s eta 0:00:01\r\u001b[K     |█████████                       | 286kB 4.4MB/s eta 0:00:01\r\u001b[K     |█████████▎                      | 296kB 4.4MB/s eta 0:00:01\r\u001b[K     |█████████▋                      | 307kB 4.4MB/s eta 0:00:01\r\u001b[K     |██████████                      | 317kB 4.4MB/s eta 0:00:01\r\u001b[K     |██████████▎                     | 327kB 4.4MB/s eta 0:00:01\r\u001b[K     |██████████▋                     | 337kB 4.4MB/s eta 0:00:01\r\u001b[K     |███████████                     | 348kB 4.4MB/s eta 0:00:01\r\u001b[K     |███████████▎                    | 358kB 4.4MB/s eta 0:00:01\r\u001b[K     |███████████▌                    | 368kB 4.4MB/s eta 0:00:01\r\u001b[K     |███████████▉                    | 378kB 4.4MB/s eta 0:00:01\r\u001b[K     |████████████▏                   | 389kB 4.4MB/s eta 0:00:01\r\u001b[K     |████████████▌                   | 399kB 4.4MB/s eta 0:00:01\r\u001b[K     |████████████▉                   | 409kB 4.4MB/s eta 0:00:01\r\u001b[K     |█████████████▏                  | 419kB 4.4MB/s eta 0:00:01\r\u001b[K     |█████████████▌                  | 430kB 4.4MB/s eta 0:00:01\r\u001b[K     |█████████████▉                  | 440kB 4.4MB/s eta 0:00:01\r\u001b[K     |██████████████▏                 | 450kB 4.4MB/s eta 0:00:01\r\u001b[K     |██████████████▍                 | 460kB 4.4MB/s eta 0:00:01\r\u001b[K     |██████████████▊                 | 471kB 4.4MB/s eta 0:00:01\r\u001b[K     |███████████████                 | 481kB 4.4MB/s eta 0:00:01\r\u001b[K     |███████████████▍                | 491kB 4.4MB/s eta 0:00:01\r\u001b[K     |███████████████▊                | 501kB 4.4MB/s eta 0:00:01\r\u001b[K     |████████████████                | 512kB 4.4MB/s eta 0:00:01\r\u001b[K     |████████████████▍               | 522kB 4.4MB/s eta 0:00:01\r\u001b[K     |████████████████▊               | 532kB 4.4MB/s eta 0:00:01\r\u001b[K     |█████████████████               | 542kB 4.4MB/s eta 0:00:01\r\u001b[K     |█████████████████▎              | 552kB 4.4MB/s eta 0:00:01\r\u001b[K     |█████████████████▋              | 563kB 4.4MB/s eta 0:00:01\r\u001b[K     |██████████████████              | 573kB 4.4MB/s eta 0:00:01\r\u001b[K     |██████████████████▎             | 583kB 4.4MB/s eta 0:00:01\r\u001b[K     |██████████████████▋             | 593kB 4.4MB/s eta 0:00:01\r\u001b[K     |███████████████████             | 604kB 4.4MB/s eta 0:00:01\r\u001b[K     |███████████████████▎            | 614kB 4.4MB/s eta 0:00:01\r\u001b[K     |███████████████████▋            | 624kB 4.4MB/s eta 0:00:01\r\u001b[K     |████████████████████            | 634kB 4.4MB/s eta 0:00:01\r\u001b[K     |████████████████████▏           | 645kB 4.4MB/s eta 0:00:01\r\u001b[K     |████████████████████▌           | 655kB 4.4MB/s eta 0:00:01\r\u001b[K     |████████████████████▉           | 665kB 4.4MB/s eta 0:00:01\r\u001b[K     |█████████████████████▏          | 675kB 4.4MB/s eta 0:00:01\r\u001b[K     |█████████████████████▌          | 686kB 4.4MB/s eta 0:00:01\r\u001b[K     |█████████████████████▉          | 696kB 4.4MB/s eta 0:00:01\r\u001b[K     |██████████████████████▏         | 706kB 4.4MB/s eta 0:00:01\r\u001b[K     |██████████████████████▌         | 716kB 4.4MB/s eta 0:00:01\r\u001b[K     |██████████████████████▉         | 727kB 4.4MB/s eta 0:00:01\r\u001b[K     |███████████████████████         | 737kB 4.4MB/s eta 0:00:01\r\u001b[K     |███████████████████████▍        | 747kB 4.4MB/s eta 0:00:01\r\u001b[K     |███████████████████████▊        | 757kB 4.4MB/s eta 0:00:01\r\u001b[K     |████████████████████████        | 768kB 4.4MB/s eta 0:00:01\r\u001b[K     |████████████████████████▍       | 778kB 4.4MB/s eta 0:00:01\r\u001b[K     |████████████████████████▊       | 788kB 4.4MB/s eta 0:00:01\r\u001b[K     |█████████████████████████       | 798kB 4.4MB/s eta 0:00:01\r\u001b[K     |█████████████████████████▍      | 808kB 4.4MB/s eta 0:00:01\r\u001b[K     |█████████████████████████▊      | 819kB 4.4MB/s eta 0:00:01\r\u001b[K     |██████████████████████████      | 829kB 4.4MB/s eta 0:00:01\r\u001b[K     |██████████████████████████▎     | 839kB 4.4MB/s eta 0:00:01\r\u001b[K     |██████████████████████████▋     | 849kB 4.4MB/s eta 0:00:01\r\u001b[K     |███████████████████████████     | 860kB 4.4MB/s eta 0:00:01\r\u001b[K     |███████████████████████████▎    | 870kB 4.4MB/s eta 0:00:01\r\u001b[K     |███████████████████████████▋    | 880kB 4.4MB/s eta 0:00:01\r\u001b[K     |████████████████████████████    | 890kB 4.4MB/s eta 0:00:01\r\u001b[K     |████████████████████████████▎   | 901kB 4.4MB/s eta 0:00:01\r\u001b[K     |████████████████████████████▋   | 911kB 4.4MB/s eta 0:00:01\r\u001b[K     |████████████████████████████▉   | 921kB 4.4MB/s eta 0:00:01\r\u001b[K     |█████████████████████████████▏  | 931kB 4.4MB/s eta 0:00:01\r\u001b[K     |█████████████████████████████▌  | 942kB 4.4MB/s eta 0:00:01\r\u001b[K     |█████████████████████████████▉  | 952kB 4.4MB/s eta 0:00:01\r\u001b[K     |██████████████████████████████▏ | 962kB 4.4MB/s eta 0:00:01\r\u001b[K     |██████████████████████████████▌ | 972kB 4.4MB/s eta 0:00:01\r\u001b[K     |██████████████████████████████▉ | 983kB 4.4MB/s eta 0:00:01\r\u001b[K     |███████████████████████████████▏| 993kB 4.4MB/s eta 0:00:01\r\u001b[K     |███████████████████████████████▌| 1.0MB 4.4MB/s eta 0:00:01\r\u001b[K     |███████████████████████████████▊| 1.0MB 4.4MB/s eta 0:00:01\r\u001b[K     |████████████████████████████████| 1.0MB 4.4MB/s \n",
            "\u001b[?25h  Building wheel for tensorflow-docs (setup.py) ... \u001b[?25l\u001b[?25hdone\n"
          ],
          "name": "stdout"
        }
      ]
    },
    {
      "cell_type": "code",
      "metadata": {
        "id": "8oncelBtCuVY"
      },
      "source": [
        "from IPython import display\n",
        "from matplotlib import pyplot as plt\n",
        "import numpy as np\n",
        "import pathlib\n",
        "import shutil\n",
        "import tempfile"
      ],
      "execution_count": 3,
      "outputs": []
    },
    {
      "cell_type": "code",
      "metadata": {
        "id": "zWxOdFHNC5TI"
      },
      "source": [
        "logdir = pathlib.Path(tempfile.mkdtemp())/\"tensorboard_logs\"\n",
        "shutil.rmtree(logdir, ignore_errors=True)"
      ],
      "execution_count": 4,
      "outputs": []
    },
    {
      "cell_type": "code",
      "metadata": {
        "colab": {
          "base_uri": "https://localhost:8080/"
        },
        "id": "i7q3SGa7DJzu",
        "outputId": "3716b4a2-5987-460f-a580-516c4a1a9a03"
      },
      "source": [
        "gz = tf.keras.utils.get_file('HIGGS.csv.gz', 'http://mlphysics.ics.uci.edu/data/higgs/HIGGS.csv.gz')"
      ],
      "execution_count": 5,
      "outputs": [
        {
          "output_type": "stream",
          "text": [
            "Downloading data from http://mlphysics.ics.uci.edu/data/higgs/HIGGS.csv.gz\n",
            "2816409600/2816407858 [==============================] - 60s 0us/step\n"
          ],
          "name": "stdout"
        }
      ]
    },
    {
      "cell_type": "code",
      "metadata": {
        "id": "e9RcBu2SD-cC"
      },
      "source": [
        "FEATURES = 28\n",
        "ds = tf.data.experimental.CsvDataset(gz, [float(), ]*(FEATURES + 1), compression_type=\"GZIP\")\n"
      ],
      "execution_count": 6,
      "outputs": []
    },
    {
      "cell_type": "code",
      "metadata": {
        "id": "1CNHbcf4ESiy"
      },
      "source": [
        "def pack_row(*row):\n",
        "  label = row[0]\n",
        "  features = tf.stack(row[1:], 1)\n",
        "  return features, label\n"
      ],
      "execution_count": 7,
      "outputs": []
    },
    {
      "cell_type": "code",
      "metadata": {
        "id": "WYuKvlpGE41D"
      },
      "source": [
        "packed_ds = ds.batch(10000).map(pack_row).unbatch()"
      ],
      "execution_count": 8,
      "outputs": []
    },
    {
      "cell_type": "code",
      "metadata": {
        "colab": {
          "base_uri": "https://localhost:8080/",
          "height": 367
        },
        "id": "PtpOMm_tFHh1",
        "outputId": "0e4f8968-665c-4fd0-b091-51f89484cc8f"
      },
      "source": [
        "for features, label in packed_ds.batch(1000).take(1):\n",
        "  print(features[0])\n",
        "  plt.hist(features.numpy().flatten(), bins=101)"
      ],
      "execution_count": 9,
      "outputs": [
        {
          "output_type": "stream",
          "text": [
            "tf.Tensor(\n",
            "[ 0.8692932  -0.6350818   0.22569026  0.32747006 -0.6899932   0.75420225\n",
            " -0.24857314 -1.0920639   0.          1.3749921  -0.6536742   0.9303491\n",
            "  1.1074361   1.1389043  -1.5781983  -1.0469854   0.          0.65792954\n",
            " -0.01045457 -0.04576717  3.1019614   1.35376     0.9795631   0.97807616\n",
            "  0.92000484  0.72165745  0.98875093  0.87667835], shape=(28,), dtype=float32)\n"
          ],
          "name": "stdout"
        },
        {
          "output_type": "display_data",
          "data": {
            "image/png": "[encoded data removed]",
            "text/plain": [
              "<Figure size 432x288 with 1 Axes>"
            ]
          },
          "metadata": {
            "tags": [],
            "needs_background": "light"
          }
        }
      ]
    },
    {
      "cell_type": "code",
      "metadata": {
        "id": "pCzU-fvSFs6U"
      },
      "source": [
        "N_VALIDATION = int(1000)\n",
        "N_TRAIN = int(10000)\n",
        "BUFFER_SIZE = int(10000)\n",
        "BATCH_SIZE = 500\n",
        "STEPS_PER_EPOCH = N_TRAIN // BATCH_SIZE"
      ],
      "execution_count": 10,
      "outputs": []
    },
    {
      "cell_type": "code",
      "metadata": {
        "id": "z_x-rdJGeMvp"
      },
      "source": [
        "validate_ds = packed_ds.take(N_VALIDATION).cache()\n",
        "train_ds = packed_ds.skip(N_VALIDATION).take(N_TRAIN).cache()"
      ],
      "execution_count": 11,
      "outputs": []
    },
    {
      "cell_type": "code",
      "metadata": {
        "colab": {
          "base_uri": "https://localhost:8080/"
        },
        "id": "7U4zAhZsLTlH",
        "outputId": "82f394b5-c337-4913-951f-8a5d77d45611"
      },
      "source": [
        "train_ds"
      ],
      "execution_count": 12,
      "outputs": [
        {
          "output_type": "execute_result",
          "data": {
            "text/plain": [
              "<CacheDataset shapes: ((28,), ()), types: (tf.float32, tf.float32)>"
            ]
          },
          "metadata": {
            "tags": []
          },
          "execution_count": 12
        }
      ]
    },
    {
      "cell_type": "code",
      "metadata": {
        "id": "NGsZ_HOqLkXA"
      },
      "source": [
        "validate_ds = validate_ds.batch(BATCH_SIZE)\n",
        "train_ds = train_ds.shuffle(BUFFER_SIZE).repeat().batch(BATCH_SIZE)\n"
      ],
      "execution_count": 13,
      "outputs": []
    },
    {
      "cell_type": "code",
      "metadata": {
        "id": "vBa8rb2-L7Nt"
      },
      "source": [
        "learning_rate_schedule = tf.keras.optimizers.schedules.InverseTimeDecay(\n",
        "    0.001,\n",
        "    decay_steps=STEPS_PER_EPOCH*1000,\n",
        "    decay_rate=1,\n",
        "    staircase=False\n",
        ")\n",
        "def get_optimizer():\n",
        "  return tf.keras.optimizers.Adam(learning_rate_schedule)"
      ],
      "execution_count": 24,
      "outputs": []
    },
    {
      "cell_type": "code",
      "metadata": {
        "colab": {
          "base_uri": "https://localhost:8080/",
          "height": 388
        },
        "id": "VYoTNngCNSYQ",
        "outputId": "1f752990-3e37-4975-debf-b5808d42e72c"
      },
      "source": [
        "step = np.linspace(0, 100000)\n",
        "lr = learning_rate_schedule(step)\n",
        "plt.figure(figsize=(8, 6))\n",
        "plt.plot(step/STEPS_PER_EPOCH, lr)\n",
        "plt.ylim([0, max(plt.ylim())])\n",
        "plt.xlabel('Epoch')\n",
        "_ = plt.ylabel('Learning Rate')"
      ],
      "execution_count": 25,
      "outputs": [
        {
          "output_type": "display_data",
          "data": {
            "image/png": "[encoded data removed]",
            "text/plain": [
              "<Figure size 576x432 with 1 Axes>"
            ]
          },
          "metadata": {
            "tags": [],
            "needs_background": "light"
          }
        }
      ]
    },
    {
      "cell_type": "code",
      "metadata": {
        "id": "GlSnEEVaOc6V"
      },
      "source": [
        "def get_callbacks(name):\n",
        "  return [\n",
        "    tfdocs.modeling.EpochDots(),\n",
        "    tf.keras.callbacks.EarlyStopping(monitor='val_binary_crossentropy', patience=200),\n",
        "    tf.keras.callbacks.TensorBoard(logdir/name),\n",
        "  ]"
      ],
      "execution_count": 26,
      "outputs": []
    },
    {
      "cell_type": "code",
      "metadata": {
        "id": "j_7RFoOnO218"
      },
      "source": [
        "def compile_and_fit(model, name, optimizer=None, max_epochs=10000):\n",
        "  if optimizer is None:\n",
        "    optimizer = get_optimizer()\n",
        "  model.compile(optimizer=optimizer,\n",
        "                loss=tf.keras.losses.BinaryCrossentropy(from_logits=True),\n",
        "                metrics=[\n",
        "                         tf.keras.losses.BinaryCrossentropy(from_logits=True, name='binary_crossentropy'),\n",
        "                         'accuracy'\n",
        "                ])\n",
        "  model.summary()\n",
        "\n",
        "  history = model.fit(\n",
        "      train_ds,\n",
        "      steps_per_epoch = STEPS_PER_EPOCH,\n",
        "      epochs=max_epochs,\n",
        "      validation_data=validate_ds,\n",
        "      callbacks=get_callbacks(name),\n",
        "      verbose=0)\n",
        "  return history\n"
      ],
      "execution_count": 29,
      "outputs": []
    },
    {
      "cell_type": "code",
      "metadata": {
        "colab": {
          "base_uri": "https://localhost:8080/"
        },
        "id": "rBUDZpl1Pyip",
        "outputId": "e09ee54b-1814-4341-f006-a5cbd093a2b8"
      },
      "source": [
        "# Tiny model\n",
        "tiny_model = tf.keras.Sequential([ \n",
        "    layers.Dense(16, activation='elu', input_shape=(FEATURES,)),\n",
        "    layers.Dense(1)\n",
        "])\n",
        "\n",
        "size_histories = {}\n",
        "\n",
        "size_histories['Tiny'] = compile_and_fit(tiny_model, 'sizes/Tiny')"
      ],
      "execution_count": 34,
      "outputs": [
        {
          "output_type": "stream",
          "text": [
            "Model: \"sequential_5\"\n",
            "_________________________________________________________________\n",
            "Layer (type)                 Output Shape              Param #   \n",
            "=================================================================\n",
            "dense_11 (Dense)             (None, 16)                464       \n",
            "_________________________________________________________________\n",
            "dense_12 (Dense)             (None, 1)                 17        \n",
            "=================================================================\n",
            "Total params: 481\n",
            "Trainable params: 481\n",
            "Non-trainable params: 0\n",
            "_________________________________________________________________\n",
            "WARNING:tensorflow:Callback method `on_train_batch_end` is slow compared to the batch time (batch time: 0.0028s vs `on_train_batch_end` time: 0.0145s). Check your callbacks.\n",
            "\n",
            "Epoch: 0, accuracy:0.5035,  binary_crossentropy:0.7512,  loss:0.7512,  val_accuracy:0.4930,  val_binary_crossentropy:0.7191,  val_loss:0.7191,  \n",
            "....................................................................................................\n",
            "Epoch: 100, accuracy:0.6107,  binary_crossentropy:0.6226,  loss:0.6226,  val_accuracy:0.5830,  val_binary_crossentropy:0.6233,  val_loss:0.6233,  \n",
            "....................................................................................................\n",
            "Epoch: 200, accuracy:0.6321,  binary_crossentropy:0.6105,  loss:0.6105,  val_accuracy:0.6110,  val_binary_crossentropy:0.6121,  val_loss:0.6121,  \n",
            "....................................................................................................\n",
            "Epoch: 300, accuracy:0.6480,  binary_crossentropy:0.6010,  loss:0.6010,  val_accuracy:0.6220,  val_binary_crossentropy:0.6037,  val_loss:0.6037,  \n",
            "....................................................................................................\n",
            "Epoch: 400, accuracy:0.6566,  binary_crossentropy:0.5924,  loss:0.5924,  val_accuracy:0.6370,  val_binary_crossentropy:0.5964,  val_loss:0.5964,  \n",
            "....................................................................................................\n",
            "Epoch: 500, accuracy:0.6641,  binary_crossentropy:0.5857,  loss:0.5857,  val_accuracy:0.6670,  val_binary_crossentropy:0.5890,  val_loss:0.5890,  \n",
            "....................................................................................................\n",
            "Epoch: 600, accuracy:0.6697,  binary_crossentropy:0.5816,  loss:0.5816,  val_accuracy:0.6530,  val_binary_crossentropy:0.5891,  val_loss:0.5891,  \n",
            "....................................................................................................\n",
            "Epoch: 700, accuracy:0.6742,  binary_crossentropy:0.5783,  loss:0.5783,  val_accuracy:0.6570,  val_binary_crossentropy:0.5871,  val_loss:0.5871,  \n",
            "....................................................................................................\n",
            "Epoch: 800, accuracy:0.6779,  binary_crossentropy:0.5766,  loss:0.5766,  val_accuracy:0.6690,  val_binary_crossentropy:0.5862,  val_loss:0.5862,  \n",
            "....................................................................................................\n",
            "Epoch: 900, accuracy:0.6774,  binary_crossentropy:0.5743,  loss:0.5743,  val_accuracy:0.6730,  val_binary_crossentropy:0.5850,  val_loss:0.5850,  \n",
            "....................................................................................................\n",
            "Epoch: 1000, accuracy:0.6776,  binary_crossentropy:0.5728,  loss:0.5728,  val_accuracy:0.6680,  val_binary_crossentropy:0.5858,  val_loss:0.5858,  \n",
            "........................................................................................."
          ],
          "name": "stdout"
        }
      ]
    },
    {
      "cell_type": "code",
      "metadata": {
        "colab": {
          "base_uri": "https://localhost:8080/",
          "height": 300
        },
        "id": "N22XsASHRy_B",
        "outputId": "66bfa3a0-45e3-4c07-cdb7-d99fa7a45fb3"
      },
      "source": [
        "plotter = tfdocs.plots.HistoryPlotter(metric = 'binary_crossentropy', smoothing_std=10)\n",
        "plotter.plot(size_histories)\n",
        "plt.ylim([0.5, 0.7])"
      ],
      "execution_count": 31,
      "outputs": [
        {
          "output_type": "execute_result",
          "data": {
            "text/plain": [
              "(0.5, 0.7)"
            ]
          },
          "metadata": {
            "tags": []
          },
          "execution_count": 31
        },
        {
          "output_type": "display_data",
          "data": {
            "image/png": "[encoded data removed]",
            "text/plain": [
              "<Figure size 432x288 with 1 Axes>"
            ]
          },
          "metadata": {
            "tags": [],
            "needs_background": "light"
          }
        }
      ]
    },
    {
      "cell_type": "code",
      "metadata": {
        "id": "ZXZcNAExSACm"
      },
      "source": [
        "# small model\n",
        "small_model = tf.keras.Sequential([\n",
        "    # `input_shape` is only required here so that `.summary` works.\n",
        "    layers.Dense(16, activation='elu', input_shape=(FEATURES,)),\n",
        "    layers.Dense(16, activation='elu'),\n",
        "    layers.Dense(1)\n",
        "])"
      ],
      "execution_count": 32,
      "outputs": []
    },
    {
      "cell_type": "code",
      "metadata": {
        "colab": {
          "base_uri": "https://localhost:8080/"
        },
        "id": "gk0P_UJSSFNn",
        "outputId": "0087eeef-8852-4b8d-9d13-10999f102885"
      },
      "source": [
        "size_histories['Small'] = compile_and_fit(small_model, 'sizes/Small')\n"
      ],
      "execution_count": 33,
      "outputs": [
        {
          "output_type": "stream",
          "text": [
            "Model: \"sequential_4\"\n",
            "_________________________________________________________________\n",
            "Layer (type)                 Output Shape              Param #   \n",
            "=================================================================\n",
            "dense_8 (Dense)              (None, 16)                464       \n",
            "_________________________________________________________________\n",
            "dense_9 (Dense)              (None, 16)                272       \n",
            "_________________________________________________________________\n",
            "dense_10 (Dense)             (None, 1)                 17        \n",
            "=================================================================\n",
            "Total params: 753\n",
            "Trainable params: 753\n",
            "Non-trainable params: 0\n",
            "_________________________________________________________________\n",
            "WARNING:tensorflow:Callback method `on_train_batch_end` is slow compared to the batch time (batch time: 0.0029s vs `on_train_batch_end` time: 0.0145s). Check your callbacks.\n",
            "\n",
            "Epoch: 0, accuracy:0.4999,  binary_crossentropy:0.7165,  loss:0.7165,  val_accuracy:0.4820,  val_binary_crossentropy:0.7093,  val_loss:0.7093,  \n",
            "....................................................................................................\n",
            "Epoch: 100, accuracy:0.6217,  binary_crossentropy:0.6138,  loss:0.6138,  val_accuracy:0.6250,  val_binary_crossentropy:0.6206,  val_loss:0.6206,  \n",
            "....................................................................................................\n",
            "Epoch: 200, accuracy:0.6642,  binary_crossentropy:0.5886,  loss:0.5886,  val_accuracy:0.6460,  val_binary_crossentropy:0.5936,  val_loss:0.5936,  \n",
            "....................................................................................................\n",
            "Epoch: 300, accuracy:0.6813,  binary_crossentropy:0.5750,  loss:0.5750,  val_accuracy:0.6520,  val_binary_crossentropy:0.5893,  val_loss:0.5893,  \n",
            "....................................................................................................\n",
            "Epoch: 400, accuracy:0.6887,  binary_crossentropy:0.5663,  loss:0.5663,  val_accuracy:0.6390,  val_binary_crossentropy:0.5965,  val_loss:0.5965,  \n",
            "..........................................................................................."
          ],
          "name": "stdout"
        }
      ]
    }
  ]
}