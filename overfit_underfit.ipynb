{
  "nbformat": 4,
  "nbformat_minor": 0,
  "metadata": {
    "colab": {
      "name": "overfit_underfit.ipynb",
      "provenance": [],
      "authorship_tag": "ABX9TyOUbaEXxO5ua7dTJEst/y48",
      "include_colab_link": true
    },
    "kernelspec": {
      "name": "python3",
      "display_name": "Python 3"
    }
  },
  "cells": [
    {
      "cell_type": "markdown",
      "metadata": {
        "id": "view-in-github",
        "colab_type": "text"
      },
      "source": [
        "<a href=\"https://colab.research.google.com/github/chengzh2008/tensorflow-tutorials/blob/main/overfit_underfit.ipynb\" target=\"_parent\"><img src=\"https://colab.research.google.com/assets/colab-badge.svg\" alt=\"Open In Colab\"/></a>"
      ]
    },
    {
      "cell_type": "code",
      "metadata": {
        "colab": {
          "base_uri": "https://localhost:8080/"
        },
        "id": "LT_-p0L8B55e",
        "outputId": "3fb62b23-ae74-440d-c6bc-a9659d51f99b"
      },
      "source": [
        "import tensorflow as tf\n",
        "from tensorflow.keras import layers\n",
        "from tensorflow.keras import regularizers\n",
        "print(tf.__version__)"
      ],
      "execution_count": 1,
      "outputs": [
        {
          "output_type": "stream",
          "text": [
            "2.4.0\n"
          ],
          "name": "stdout"
        }
      ]
    },
    {
      "cell_type": "code",
      "metadata": {
        "colab": {
          "base_uri": "https://localhost:8080/"
        },
        "id": "j7dxFJdnCTaB",
        "outputId": "22584b8f-8365-4409-9c06-51f8918b7365"
      },
      "source": [
        "!pip install -q git+http://github.com/tensorflow/docs\n",
        "\n",
        "import tensorflow_docs as tfdocs\n",
        "import tensorflow_docs.modeling\n",
        "import tensorflow_docs.plots"
      ],
      "execution_count": 2,
      "outputs": [
        {
          "output_type": "stream",
          "text": [
            "\u001b[?25l\r\u001b[K     |▎                               | 10kB 21.0MB/s eta 0:00:01\r\u001b[K     |▋                               | 20kB 26.2MB/s eta 0:00:01\r\u001b[K     |█                               | 30kB 12.8MB/s eta 0:00:01\r\u001b[K     |█▎                              | 40kB 9.2MB/s eta 0:00:01\r\u001b[K     |█▋                              | 51kB 4.2MB/s eta 0:00:01\r\u001b[K     |██                              | 61kB 4.6MB/s eta 0:00:01\r\u001b[K     |██▎                             | 71kB 5.0MB/s eta 0:00:01\r\u001b[K     |██▋                             | 81kB 5.2MB/s eta 0:00:01\r\u001b[K     |██▉                             | 92kB 5.3MB/s eta 0:00:01\r\u001b[K     |███▏                            | 102kB 4.1MB/s eta 0:00:01\r\u001b[K     |███▌                            | 112kB 4.1MB/s eta 0:00:01\r\u001b[K     |███▉                            | 122kB 4.1MB/s eta 0:00:01\r\u001b[K     |████▏                           | 133kB 4.1MB/s eta 0:00:01\r\u001b[K     |████▌                           | 143kB 4.1MB/s eta 0:00:01\r\u001b[K     |████▉                           | 153kB 4.1MB/s eta 0:00:01\r\u001b[K     |█████▏                          | 163kB 4.1MB/s eta 0:00:01\r\u001b[K     |█████▌                          | 174kB 4.1MB/s eta 0:00:01\r\u001b[K     |█████▊                          | 184kB 4.1MB/s eta 0:00:01\r\u001b[K     |██████                          | 194kB 4.1MB/s eta 0:00:01\r\u001b[K     |██████▍                         | 204kB 4.1MB/s eta 0:00:01\r\u001b[K     |██████▊                         | 215kB 4.1MB/s eta 0:00:01\r\u001b[K     |███████                         | 225kB 4.1MB/s eta 0:00:01\r\u001b[K     |███████▍                        | 235kB 4.1MB/s eta 0:00:01\r\u001b[K     |███████▊                        | 245kB 4.1MB/s eta 0:00:01\r\u001b[K     |████████                        | 256kB 4.1MB/s eta 0:00:01\r\u001b[K     |████████▍                       | 266kB 4.1MB/s eta 0:00:01\r\u001b[K     |████████▋                       | 276kB 4.1MB/s eta 0:00:01\r\u001b[K     |█████████                       | 286kB 4.1MB/s eta 0:00:01\r\u001b[K     |█████████▎                      | 296kB 4.1MB/s eta 0:00:01\r\u001b[K     |█████████▋                      | 307kB 4.1MB/s eta 0:00:01\r\u001b[K     |██████████                      | 317kB 4.1MB/s eta 0:00:01\r\u001b[K     |██████████▎                     | 327kB 4.1MB/s eta 0:00:01\r\u001b[K     |██████████▋                     | 337kB 4.1MB/s eta 0:00:01\r\u001b[K     |███████████                     | 348kB 4.1MB/s eta 0:00:01\r\u001b[K     |███████████▎                    | 358kB 4.1MB/s eta 0:00:01\r\u001b[K     |███████████▌                    | 368kB 4.1MB/s eta 0:00:01\r\u001b[K     |███████████▉                    | 378kB 4.1MB/s eta 0:00:01\r\u001b[K     |████████████▏                   | 389kB 4.1MB/s eta 0:00:01\r\u001b[K     |████████████▌                   | 399kB 4.1MB/s eta 0:00:01\r\u001b[K     |████████████▉                   | 409kB 4.1MB/s eta 0:00:01\r\u001b[K     |█████████████▏                  | 419kB 4.1MB/s eta 0:00:01\r\u001b[K     |█████████████▌                  | 430kB 4.1MB/s eta 0:00:01\r\u001b[K     |█████████████▉                  | 440kB 4.1MB/s eta 0:00:01\r\u001b[K     |██████████████▏                 | 450kB 4.1MB/s eta 0:00:01\r\u001b[K     |██████████████▍                 | 460kB 4.1MB/s eta 0:00:01\r\u001b[K     |██████████████▊                 | 471kB 4.1MB/s eta 0:00:01\r\u001b[K     |███████████████                 | 481kB 4.1MB/s eta 0:00:01\r\u001b[K     |███████████████▍                | 491kB 4.1MB/s eta 0:00:01\r\u001b[K     |███████████████▊                | 501kB 4.1MB/s eta 0:00:01\r\u001b[K     |████████████████                | 512kB 4.1MB/s eta 0:00:01\r\u001b[K     |████████████████▍               | 522kB 4.1MB/s eta 0:00:01\r\u001b[K     |████████████████▊               | 532kB 4.1MB/s eta 0:00:01\r\u001b[K     |█████████████████               | 542kB 4.1MB/s eta 0:00:01\r\u001b[K     |█████████████████▎              | 552kB 4.1MB/s eta 0:00:01\r\u001b[K     |█████████████████▋              | 563kB 4.1MB/s eta 0:00:01\r\u001b[K     |██████████████████              | 573kB 4.1MB/s eta 0:00:01\r\u001b[K     |██████████████████▎             | 583kB 4.1MB/s eta 0:00:01\r\u001b[K     |██████████████████▋             | 593kB 4.1MB/s eta 0:00:01\r\u001b[K     |███████████████████             | 604kB 4.1MB/s eta 0:00:01\r\u001b[K     |███████████████████▎            | 614kB 4.1MB/s eta 0:00:01\r\u001b[K     |███████████████████▋            | 624kB 4.1MB/s eta 0:00:01\r\u001b[K     |████████████████████            | 634kB 4.1MB/s eta 0:00:01\r\u001b[K     |████████████████████▏           | 645kB 4.1MB/s eta 0:00:01\r\u001b[K     |████████████████████▌           | 655kB 4.1MB/s eta 0:00:01\r\u001b[K     |████████████████████▉           | 665kB 4.1MB/s eta 0:00:01\r\u001b[K     |█████████████████████▏          | 675kB 4.1MB/s eta 0:00:01\r\u001b[K     |█████████████████████▌          | 686kB 4.1MB/s eta 0:00:01\r\u001b[K     |█████████████████████▉          | 696kB 4.1MB/s eta 0:00:01\r\u001b[K     |██████████████████████▏         | 706kB 4.1MB/s eta 0:00:01\r\u001b[K     |██████████████████████▌         | 716kB 4.1MB/s eta 0:00:01\r\u001b[K     |██████████████████████▉         | 727kB 4.1MB/s eta 0:00:01\r\u001b[K     |███████████████████████         | 737kB 4.1MB/s eta 0:00:01\r\u001b[K     |███████████████████████▍        | 747kB 4.1MB/s eta 0:00:01\r\u001b[K     |███████████████████████▊        | 757kB 4.1MB/s eta 0:00:01\r\u001b[K     |████████████████████████        | 768kB 4.1MB/s eta 0:00:01\r\u001b[K     |████████████████████████▍       | 778kB 4.1MB/s eta 0:00:01\r\u001b[K     |████████████████████████▊       | 788kB 4.1MB/s eta 0:00:01\r\u001b[K     |█████████████████████████       | 798kB 4.1MB/s eta 0:00:01\r\u001b[K     |█████████████████████████▍      | 808kB 4.1MB/s eta 0:00:01\r\u001b[K     |█████████████████████████▊      | 819kB 4.1MB/s eta 0:00:01\r\u001b[K     |██████████████████████████      | 829kB 4.1MB/s eta 0:00:01\r\u001b[K     |██████████████████████████▎     | 839kB 4.1MB/s eta 0:00:01\r\u001b[K     |██████████████████████████▋     | 849kB 4.1MB/s eta 0:00:01\r\u001b[K     |███████████████████████████     | 860kB 4.1MB/s eta 0:00:01\r\u001b[K     |███████████████████████████▎    | 870kB 4.1MB/s eta 0:00:01\r\u001b[K     |███████████████████████████▋    | 880kB 4.1MB/s eta 0:00:01\r\u001b[K     |████████████████████████████    | 890kB 4.1MB/s eta 0:00:01\r\u001b[K     |████████████████████████████▎   | 901kB 4.1MB/s eta 0:00:01\r\u001b[K     |████████████████████████████▋   | 911kB 4.1MB/s eta 0:00:01\r\u001b[K     |████████████████████████████▉   | 921kB 4.1MB/s eta 0:00:01\r\u001b[K     |█████████████████████████████▏  | 931kB 4.1MB/s eta 0:00:01\r\u001b[K     |█████████████████████████████▌  | 942kB 4.1MB/s eta 0:00:01\r\u001b[K     |█████████████████████████████▉  | 952kB 4.1MB/s eta 0:00:01\r\u001b[K     |██████████████████████████████▏ | 962kB 4.1MB/s eta 0:00:01\r\u001b[K     |██████████████████████████████▌ | 972kB 4.1MB/s eta 0:00:01\r\u001b[K     |██████████████████████████████▉ | 983kB 4.1MB/s eta 0:00:01\r\u001b[K     |███████████████████████████████▏| 993kB 4.1MB/s eta 0:00:01\r\u001b[K     |███████████████████████████████▌| 1.0MB 4.1MB/s eta 0:00:01\r\u001b[K     |███████████████████████████████▊| 1.0MB 4.1MB/s eta 0:00:01\r\u001b[K     |████████████████████████████████| 1.0MB 4.1MB/s \n",
            "\u001b[?25h  Building wheel for tensorflow-docs (setup.py) ... \u001b[?25l\u001b[?25hdone\n"
          ],
          "name": "stdout"
        }
      ]
    },
    {
      "cell_type": "code",
      "metadata": {
        "id": "8oncelBtCuVY"
      },
      "source": [
        "from IPython import display\n",
        "from matplotlib import pyplot as plt\n",
        "import numpy as np\n",
        "import pathlib\n",
        "import shutil\n",
        "import tempfile"
      ],
      "execution_count": 3,
      "outputs": []
    },
    {
      "cell_type": "code",
      "metadata": {
        "id": "zWxOdFHNC5TI"
      },
      "source": [
        "logdir = pathlib.Path(tempfile.mkdtemp())/\"tensorboard_logs\"\n",
        "shutil.rmtree(logdir, ignore_errors=True)"
      ],
      "execution_count": 4,
      "outputs": []
    },
    {
      "cell_type": "code",
      "metadata": {
        "colab": {
          "base_uri": "https://localhost:8080/"
        },
        "id": "i7q3SGa7DJzu",
        "outputId": "05843509-7310-48f7-88d3-d9e6e87e1673"
      },
      "source": [
        "gz = tf.keras.utils.get_file('HIGGS.csv.gz', 'http://mlphysics.ics.uci.edu/data/higgs/HIGGS.csv.gz')"
      ],
      "execution_count": 5,
      "outputs": [
        {
          "output_type": "stream",
          "text": [
            "Downloading data from http://mlphysics.ics.uci.edu/data/higgs/HIGGS.csv.gz\n",
            "2816409600/2816407858 [==============================] - 131s 0us/step\n"
          ],
          "name": "stdout"
        }
      ]
    },
    {
      "cell_type": "code",
      "metadata": {
        "id": "e9RcBu2SD-cC"
      },
      "source": [
        "FEATURES = 28\n",
        "ds = tf.data.experimental.CsvDataset(gz, [float(), ]*(FEATURES + 1), compression_type=\"GZIP\")\n"
      ],
      "execution_count": 6,
      "outputs": []
    },
    {
      "cell_type": "code",
      "metadata": {
        "id": "1CNHbcf4ESiy"
      },
      "source": [
        "def pack_row(*row):\n",
        "  label = row[0]\n",
        "  features = tf.stack(row[1:], 1)\n",
        "  return features, label\n"
      ],
      "execution_count": 7,
      "outputs": []
    },
    {
      "cell_type": "code",
      "metadata": {
        "id": "WYuKvlpGE41D"
      },
      "source": [
        "packed_ds = ds.batch(10000).map(pack_row).unbatch()"
      ],
      "execution_count": 8,
      "outputs": []
    },
    {
      "cell_type": "code",
      "metadata": {
        "colab": {
          "base_uri": "https://localhost:8080/",
          "height": 367
        },
        "id": "PtpOMm_tFHh1",
        "outputId": "34059840-0ede-42a8-d9eb-bc98e505eb42"
      },
      "source": [
        "for features, label in packed_ds.batch(1000).take(1):\n",
        "  print(features[0])\n",
        "  plt.hist(features.numpy().flatten(), bins=101)"
      ],
      "execution_count": 9,
      "outputs": [
        {
          "output_type": "stream",
          "text": [
            "tf.Tensor(\n",
            "[ 0.8692932  -0.6350818   0.22569026  0.32747006 -0.6899932   0.75420225\n",
            " -0.24857314 -1.0920639   0.          1.3749921  -0.6536742   0.9303491\n",
            "  1.1074361   1.1389043  -1.5781983  -1.0469854   0.          0.65792954\n",
            " -0.01045457 -0.04576717  3.1019614   1.35376     0.9795631   0.97807616\n",
            "  0.92000484  0.72165745  0.98875093  0.87667835], shape=(28,), dtype=float32)\n"
          ],
          "name": "stdout"
        },
        {
          "output_type": "display_data",
          "data": {
            "image/png": "[encoded data removed]",
            "text/plain": [
              "<Figure size 432x288 with 1 Axes>"
            ]
          },
          "metadata": {
            "tags": [],
            "needs_background": "light"
          }
        }
      ]
    },
    {
      "cell_type": "code",
      "metadata": {
        "id": "pCzU-fvSFs6U"
      },
      "source": [
        "N_VALIDATION = int(1000)\n",
        "N_TRAIN = int(10000)\n",
        "BUFFER_SIZE = int(10000)\n",
        "BATCH_SIZE = 500\n",
        "STEPS_PER_EPOCH = N_TRAIN // BATCH_SIZE"
      ],
      "execution_count": 11,
      "outputs": []
    }
  ]
}